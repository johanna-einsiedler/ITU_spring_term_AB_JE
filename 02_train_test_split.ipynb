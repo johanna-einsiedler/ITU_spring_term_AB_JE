{
 "cells": [
  {
   "cell_type": "code",
   "execution_count": 1,
   "metadata": {},
   "outputs": [],
   "source": [
    "import os\n",
    "import pyedflib\n",
    "import matplotlib.pyplot as plt\n",
    "import pandas as pd\n",
    "import numpy as np\n",
    "import sklearn\n",
    "from sklearn.model_selection import train_test_split"
   ]
  },
  {
   "cell_type": "code",
   "execution_count": 2,
   "metadata": {},
   "outputs": [],
   "source": [
    "os.chdir('/Users/htr365/Documents/Side_Projects/09_founding_lab/amanda_johanna/quantified_self')"
   ]
  },
  {
   "cell_type": "code",
   "execution_count": 15,
   "metadata": {},
   "outputs": [],
   "source": [
    "df_labels = pd.read_csv(\"Muscle Data/N1_Study_edited.csv\")\n",
    "df_labels.rename(columns=dict(zip(df_labels.columns, ['id','date',\t'pedometer','fatigue',\t'symptoms','shower_shower',\t'climb_stairs',\t'daily_activity',\t'pain', 'active_visible_rash',\t'feeling',\t'feel_tomorrow','pred_yesterday'])), inplace=True)\n",
    "df_labels['date'] = pd.to_datetime(df_labels['date'])\n",
    "df_labels.sort_values(by=\"date\", inplace=True)"
   ]
  },
  {
   "cell_type": "code",
   "execution_count": 18,
   "metadata": {},
   "outputs": [],
   "source": [
    "ids_train,ids_test = train_test_split(df_labels['date'].dropna(), test_size=0.2, random_state=0)"
   ]
  },
  {
   "cell_type": "code",
   "execution_count": 19,
   "metadata": {},
   "outputs": [],
   "source": [
    "ids_train.to_csv('/Users/htr365/Documents/Side_Projects/09_founding_lab/amanda_johanna/quantified_self/data/train_ids.csv')\n",
    "ids_test.to_csv('/Users/htr365/Documents/Side_Projects/09_founding_lab/amanda_johanna/quantified_self/data/test_ids.csv')"
   ]
  },
  {
   "cell_type": "code",
   "execution_count": null,
   "metadata": {},
   "outputs": [],
   "source": []
  }
 ],
 "metadata": {
  "kernelspec": {
   "display_name": "muscles",
   "language": "python",
   "name": "python3"
  },
  "language_info": {
   "codemirror_mode": {
    "name": "ipython",
    "version": 3
   },
   "file_extension": ".py",
   "mimetype": "text/x-python",
   "name": "python",
   "nbconvert_exporter": "python",
   "pygments_lexer": "ipython3",
   "version": "3.8.18"
  }
 },
 "nbformat": 4,
 "nbformat_minor": 2
}
