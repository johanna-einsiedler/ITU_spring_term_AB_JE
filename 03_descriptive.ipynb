{
 "cells": [
  {
   "cell_type": "code",
   "execution_count": 1,
   "metadata": {},
   "outputs": [],
   "source": [
    "import os\n",
    "import pyedflib\n",
    "import matplotlib.pyplot as plt\n",
    "import pandas as pd\n",
    "import numpy as np\n",
    "import sklearn\n",
    "import seaborn as sns"
   ]
  },
  {
   "cell_type": "code",
   "execution_count": 2,
   "metadata": {},
   "outputs": [],
   "source": [
    "os.chdir('/Users/htr365/Documents/Side_Projects/09_founding_lab/amanda_johanna/quantified_self')"
   ]
  },
  {
   "cell_type": "code",
   "execution_count": 3,
   "metadata": {},
   "outputs": [],
   "source": [
    "train_ids = pd.read_csv('data/train_ids.csv',index_col=0)\n",
    "test_ids = pd.read_csv('data/test_ids.csv',index_col=0)"
   ]
  },
  {
   "cell_type": "code",
   "execution_count": 4,
   "metadata": {},
   "outputs": [],
   "source": [
    "df_labels = pd.read_csv(\"Muscle Data/N1_Study_edited.csv\")\n",
    "df_labels.rename(columns=dict(zip(df_labels.columns, ['id','date',\t'pedometer','fatigue',\t'symptoms','shower_shower',\t'climb_stairs',\t'daily_activity',\t'pain', 'active_visible_rash',\t'feeling',\t'feel_tomorrow','pred_yesterday'])), inplace=True)\n",
    "df_labels['date'] = pd.to_datetime(df_labels['date'])\n",
    "df_labels.sort_values(by=\"date\", inplace=True)"
   ]
  },
  {
   "cell_type": "code",
   "execution_count": 6,
   "metadata": {},
   "outputs": [
    {
     "data": {
      "text/plain": [
       "fatigue\n",
       "2.0    6\n",
       "1.0    5\n",
       "3.0    3\n",
       "4.0    3\n",
       "5.0    3\n",
       "Name: count, dtype: int64"
      ]
     },
     "execution_count": 6,
     "metadata": {},
     "output_type": "execute_result"
    }
   ],
   "source": [
    "df_labels['fatigue'].value_counts()"
   ]
  },
  {
   "cell_type": "code",
   "execution_count": 9,
   "metadata": {},
   "outputs": [],
   "source": [
    "# if we are geussing 2 every time\n",
    "df_labels['fatigue_next_day']= df_labels['fatigue'].shift(periods=-1)\n",
    "df_test = df_labels.dropna(subset=['fatigue_next_day'])\n",
    "df_test = df_test[df_test['date'].isin(test_ids['date'])]"
   ]
  },
  {
   "cell_type": "code",
   "execution_count": 12,
   "metadata": {},
   "outputs": [
    {
     "data": {
      "text/plain": [
       "2.0"
      ]
     },
     "execution_count": 12,
     "metadata": {},
     "output_type": "execute_result"
    }
   ],
   "source": [
    "# mean absolute error for always guessing 2\n",
    "np.sum(np.abs(df_test['fatigue_next_day'] -2)/df_test.shape[0])"
   ]
  },
  {
   "cell_type": "code",
   "execution_count": 7,
   "metadata": {},
   "outputs": [
    {
     "data": {
      "text/plain": [
       "Text(0.5, 1.0, 'Histogram of Sample Data')"
      ]
     },
     "execution_count": 7,
     "metadata": {},
     "output_type": "execute_result"
    },
    {
     "data": {
      "image/png": "[encoded data removed]",
      "text/plain": [
       "<Figure size 640x480 with 1 Axes>"
      ]
     },
     "metadata": {},
     "output_type": "display_data"
    }
   ],
   "source": [
    "# Create histogram using Seaborn\n",
    "sns.histplot(df_labels['fatigue'], bins=5, kde=False, color='blue')\n",
    "\n",
    "# Add labels and title\n",
    "plt.xlabel('Value')\n",
    "plt.ylabel('Frequency')\n",
    "plt.title('Histogram of Sample Data')"
   ]
  }
 ],
 "metadata": {
  "kernelspec": {
   "display_name": "muscles",
   "language": "python",
   "name": "python3"
  },
  "language_info": {
   "codemirror_mode": {
    "name": "ipython",
    "version": 3
   },
   "file_extension": ".py",
   "mimetype": "text/x-python",
   "name": "python",
   "nbconvert_exporter": "python",
   "pygments_lexer": "ipython3",
   "version": "3.8.18"
  }
 },
 "nbformat": 4,
 "nbformat_minor": 2
}
